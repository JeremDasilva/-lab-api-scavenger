{
 "cells": [
  {
   "cell_type": "markdown",
   "id": "2eaf369f",
   "metadata": {},
   "source": [
    "### Your lab resolution :"
   ]
  },
  {
   "cell_type": "code",
   "execution_count": 2,
   "id": "6c94489a",
   "metadata": {},
   "outputs": [],
   "source": [
    "import requests\n",
    "import numpy as np\n",
    "import pandas as pd"
   ]
  },
  {
   "cell_type": "markdown",
   "id": "95fc3069",
   "metadata": {},
   "source": [
    "**Challenge 1**"
   ]
  },
  {
   "cell_type": "code",
   "execution_count": 23,
   "id": "0d30fca3",
   "metadata": {},
   "outputs": [],
   "source": [
    "url = 'https://api.github.com/repos/ironhack-datalabs/bcn-feb-2019/forks'\n",
    "response = requests.get(url)\n",
    "if response.status_code == 200:\n",
    "    forks = response.json()"
   ]
  },
  {
   "cell_type": "markdown",
   "id": "19e28ec8",
   "metadata": {},
   "source": [
    "var forks is the full list of all the forks created from the main lab"
   ]
  },
  {
   "cell_type": "code",
   "execution_count": 24,
   "id": "5aec8443",
   "metadata": {},
   "outputs": [
    {
     "data": {
      "text/plain": [
       "7"
      ]
     },
     "execution_count": 24,
     "metadata": {},
     "output_type": "execute_result"
    }
   ],
   "source": [
    "len(forks)"
   ]
  },
  {
   "cell_type": "code",
   "execution_count": 17,
   "id": "d3fba9fc",
   "metadata": {},
   "outputs": [
    {
     "data": {
      "text/plain": [
       "{'id': 425239153,\n",
       " 'node_id': 'R_kgDOGViicQ',\n",
       " 'name': 'bcn-feb-2019',\n",
       " 'full_name': 'StanRocha/bcn-feb-2019',\n",
       " 'private': False,\n",
       " 'owner': {'login': 'StanRocha',\n",
       "  'id': 87268484,\n",
       "  'node_id': 'MDQ6VXNlcjg3MjY4NDg0',\n",
       "  'avatar_url': 'https://avatars.githubusercontent.com/u/87268484?v=4',\n",
       "  'gravatar_id': '',\n",
       "  'url': 'https://api.github.com/users/StanRocha',\n",
       "  'html_url': 'https://github.com/StanRocha',\n",
       "  'followers_url': 'https://api.github.com/users/StanRocha/followers',\n",
       "  'following_url': 'https://api.github.com/users/StanRocha/following{/other_user}',\n",
       "  'gists_url': 'https://api.github.com/users/StanRocha/gists{/gist_id}',\n",
       "  'starred_url': 'https://api.github.com/users/StanRocha/starred{/owner}{/repo}',\n",
       "  'subscriptions_url': 'https://api.github.com/users/StanRocha/subscriptions',\n",
       "  'organizations_url': 'https://api.github.com/users/StanRocha/orgs',\n",
       "  'repos_url': 'https://api.github.com/users/StanRocha/repos',\n",
       "  'events_url': 'https://api.github.com/users/StanRocha/events{/privacy}',\n",
       "  'received_events_url': 'https://api.github.com/users/StanRocha/received_events',\n",
       "  'type': 'User',\n",
       "  'site_admin': False},\n",
       " 'html_url': 'https://github.com/StanRocha/bcn-feb-2019',\n",
       " 'description': None,\n",
       " 'fork': True,\n",
       " 'url': 'https://api.github.com/repos/StanRocha/bcn-feb-2019',\n",
       " 'forks_url': 'https://api.github.com/repos/StanRocha/bcn-feb-2019/forks',\n",
       " 'keys_url': 'https://api.github.com/repos/StanRocha/bcn-feb-2019/keys{/key_id}',\n",
       " 'collaborators_url': 'https://api.github.com/repos/StanRocha/bcn-feb-2019/collaborators{/collaborator}',\n",
       " 'teams_url': 'https://api.github.com/repos/StanRocha/bcn-feb-2019/teams',\n",
       " 'hooks_url': 'https://api.github.com/repos/StanRocha/bcn-feb-2019/hooks',\n",
       " 'issue_events_url': 'https://api.github.com/repos/StanRocha/bcn-feb-2019/issues/events{/number}',\n",
       " 'events_url': 'https://api.github.com/repos/StanRocha/bcn-feb-2019/events',\n",
       " 'assignees_url': 'https://api.github.com/repos/StanRocha/bcn-feb-2019/assignees{/user}',\n",
       " 'branches_url': 'https://api.github.com/repos/StanRocha/bcn-feb-2019/branches{/branch}',\n",
       " 'tags_url': 'https://api.github.com/repos/StanRocha/bcn-feb-2019/tags',\n",
       " 'blobs_url': 'https://api.github.com/repos/StanRocha/bcn-feb-2019/git/blobs{/sha}',\n",
       " 'git_tags_url': 'https://api.github.com/repos/StanRocha/bcn-feb-2019/git/tags{/sha}',\n",
       " 'git_refs_url': 'https://api.github.com/repos/StanRocha/bcn-feb-2019/git/refs{/sha}',\n",
       " 'trees_url': 'https://api.github.com/repos/StanRocha/bcn-feb-2019/git/trees{/sha}',\n",
       " 'statuses_url': 'https://api.github.com/repos/StanRocha/bcn-feb-2019/statuses/{sha}',\n",
       " 'languages_url': 'https://api.github.com/repos/StanRocha/bcn-feb-2019/languages',\n",
       " 'stargazers_url': 'https://api.github.com/repos/StanRocha/bcn-feb-2019/stargazers',\n",
       " 'contributors_url': 'https://api.github.com/repos/StanRocha/bcn-feb-2019/contributors',\n",
       " 'subscribers_url': 'https://api.github.com/repos/StanRocha/bcn-feb-2019/subscribers',\n",
       " 'subscription_url': 'https://api.github.com/repos/StanRocha/bcn-feb-2019/subscription',\n",
       " 'commits_url': 'https://api.github.com/repos/StanRocha/bcn-feb-2019/commits{/sha}',\n",
       " 'git_commits_url': 'https://api.github.com/repos/StanRocha/bcn-feb-2019/git/commits{/sha}',\n",
       " 'comments_url': 'https://api.github.com/repos/StanRocha/bcn-feb-2019/comments{/number}',\n",
       " 'issue_comment_url': 'https://api.github.com/repos/StanRocha/bcn-feb-2019/issues/comments{/number}',\n",
       " 'contents_url': 'https://api.github.com/repos/StanRocha/bcn-feb-2019/contents/{+path}',\n",
       " 'compare_url': 'https://api.github.com/repos/StanRocha/bcn-feb-2019/compare/{base}...{head}',\n",
       " 'merges_url': 'https://api.github.com/repos/StanRocha/bcn-feb-2019/merges',\n",
       " 'archive_url': 'https://api.github.com/repos/StanRocha/bcn-feb-2019/{archive_format}{/ref}',\n",
       " 'downloads_url': 'https://api.github.com/repos/StanRocha/bcn-feb-2019/downloads',\n",
       " 'issues_url': 'https://api.github.com/repos/StanRocha/bcn-feb-2019/issues{/number}',\n",
       " 'pulls_url': 'https://api.github.com/repos/StanRocha/bcn-feb-2019/pulls{/number}',\n",
       " 'milestones_url': 'https://api.github.com/repos/StanRocha/bcn-feb-2019/milestones{/number}',\n",
       " 'notifications_url': 'https://api.github.com/repos/StanRocha/bcn-feb-2019/notifications{?since,all,participating}',\n",
       " 'labels_url': 'https://api.github.com/repos/StanRocha/bcn-feb-2019/labels{/name}',\n",
       " 'releases_url': 'https://api.github.com/repos/StanRocha/bcn-feb-2019/releases{/id}',\n",
       " 'deployments_url': 'https://api.github.com/repos/StanRocha/bcn-feb-2019/deployments',\n",
       " 'created_at': '2021-11-06T12:31:11Z',\n",
       " 'updated_at': '2021-11-06T12:31:12Z',\n",
       " 'pushed_at': '2019-02-18T22:33:04Z',\n",
       " 'git_url': 'git://github.com/StanRocha/bcn-feb-2019.git',\n",
       " 'ssh_url': 'git@github.com:StanRocha/bcn-feb-2019.git',\n",
       " 'clone_url': 'https://github.com/StanRocha/bcn-feb-2019.git',\n",
       " 'svn_url': 'https://github.com/StanRocha/bcn-feb-2019',\n",
       " 'homepage': None,\n",
       " 'size': 163749,\n",
       " 'stargazers_count': 0,\n",
       " 'watchers_count': 0,\n",
       " 'language': None,\n",
       " 'has_issues': False,\n",
       " 'has_projects': True,\n",
       " 'has_downloads': True,\n",
       " 'has_wiki': True,\n",
       " 'has_pages': False,\n",
       " 'has_discussions': False,\n",
       " 'forks_count': 0,\n",
       " 'mirror_url': None,\n",
       " 'archived': False,\n",
       " 'disabled': False,\n",
       " 'open_issues_count': 0,\n",
       " 'license': {'key': 'agpl-3.0',\n",
       "  'name': 'GNU Affero General Public License v3.0',\n",
       "  'spdx_id': 'AGPL-3.0',\n",
       "  'url': 'https://api.github.com/licenses/agpl-3.0',\n",
       "  'node_id': 'MDc6TGljZW5zZTE='},\n",
       " 'allow_forking': True,\n",
       " 'is_template': False,\n",
       " 'web_commit_signoff_required': False,\n",
       " 'topics': [],\n",
       " 'visibility': 'public',\n",
       " 'forks': 0,\n",
       " 'open_issues': 0,\n",
       " 'watchers': 0,\n",
       " 'default_branch': 'master'}"
      ]
     },
     "execution_count": 17,
     "metadata": {},
     "output_type": "execute_result"
    }
   ],
   "source": [
    "products[1]"
   ]
  },
  {
   "cell_type": "code",
   "execution_count": 27,
   "id": "321da9ce",
   "metadata": {},
   "outputs": [
    {
     "data": {
      "text/plain": [
       "[None, None, None, None, None, None, 'Jupyter Notebook']"
      ]
     },
     "execution_count": 27,
     "metadata": {},
     "output_type": "execute_result"
    }
   ],
   "source": [
    "languages = []\n",
    "for fork in forks :\n",
    "    language = fork['language']\n",
    "    languages.append(language)\n",
    "languages"
   ]
  },
  {
   "cell_type": "markdown",
   "id": "36ef72ab",
   "metadata": {},
   "source": [
    "**Challenge 2**"
   ]
  },
  {
   "cell_type": "code",
   "execution_count": 3,
   "id": "2b7bfe40",
   "metadata": {},
   "outputs": [],
   "source": [
    "url = 'https://api.github.com/repos/ta-data-pt-rmt/lab-mysql-first-queries/forks'\n",
    "response = requests.get(url)\n",
    "if response.status_code == 200:\n",
    "    forks = response.json()"
   ]
  },
  {
   "cell_type": "code",
   "execution_count": 6,
   "id": "2d3e44a2",
   "metadata": {},
   "outputs": [
    {
     "data": {
      "text/plain": [
       "'2023-06-04T15:41:55Z'"
      ]
     },
     "execution_count": 6,
     "metadata": {},
     "output_type": "execute_result"
    }
   ],
   "source": [
    "forks[0]['created_at']"
   ]
  },
  {
   "cell_type": "code",
   "execution_count": 8,
   "id": "7e6e1cd4",
   "metadata": {},
   "outputs": [
    {
     "data": {
      "text/plain": [
       "['2023-06-04T15:41:55Z',\n",
       " '2023-05-20T12:16:23Z',\n",
       " '2023-05-03T19:47:43Z',\n",
       " '2023-05-03T09:36:27Z',\n",
       " '2023-05-02T09:44:25Z',\n",
       " '2023-04-30T21:03:56Z',\n",
       " '2023-04-28T20:52:44Z',\n",
       " '2023-04-28T16:29:05Z',\n",
       " '2023-04-27T19:23:05Z',\n",
       " '2023-04-27T19:14:40Z',\n",
       " '2023-04-27T18:53:34Z',\n",
       " '2023-04-27T17:11:29Z',\n",
       " '2022-11-02T13:06:47Z',\n",
       " '2022-10-28T19:31:41Z',\n",
       " '2022-10-16T15:30:12Z',\n",
       " '2022-10-15T03:41:46Z',\n",
       " '2022-10-14T19:13:06Z',\n",
       " '2022-10-14T15:05:22Z',\n",
       " '2022-10-14T13:13:29Z',\n",
       " '2022-10-14T12:24:11Z',\n",
       " '2022-10-14T10:27:52Z',\n",
       " '2022-10-13T20:26:24Z',\n",
       " '2022-10-13T20:22:45Z',\n",
       " '2022-10-13T19:26:11Z',\n",
       " '2022-10-13T19:15:46Z',\n",
       " '2022-10-13T19:12:14Z',\n",
       " '2022-10-13T19:10:19Z',\n",
       " '2022-10-13T18:45:51Z',\n",
       " '2022-10-13T17:53:07Z',\n",
       " '2022-10-13T17:24:30Z']"
      ]
     },
     "execution_count": 8,
     "metadata": {},
     "output_type": "execute_result"
    }
   ],
   "source": [
    "dates = []\n",
    "for fork in forks :\n",
    "    date = fork['created_at']\n",
    "    dates.append(date)\n",
    "dates"
   ]
  }
 ],
 "metadata": {
  "kernelspec": {
   "display_name": "Python 3",
   "language": "python",
   "name": "python3"
  },
  "language_info": {
   "codemirror_mode": {
    "name": "ipython",
    "version": 3
   },
   "file_extension": ".py",
   "mimetype": "text/x-python",
   "name": "python",
   "nbconvert_exporter": "python",
   "pygments_lexer": "ipython3",
   "version": "3.10.12"
  }
 },
 "nbformat": 4,
 "nbformat_minor": 5
}
