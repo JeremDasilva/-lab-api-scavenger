{
 "cells": [
  {
   "cell_type": "markdown",
   "id": "2eaf369f",
   "metadata": {},
   "source": [
    "### Your lab resolution :"
   ]
  },
  {
   "cell_type": "code",
   "execution_count": 6,
   "id": "6c94489a",
   "metadata": {},
   "outputs": [],
   "source": [
    "import requests\n",
    "import numpy as np\n",
    "import pandas as pd\n",
    "from datetime import datetime, timedelta"
   ]
  },
  {
   "cell_type": "markdown",
   "metadata": {},
   "source": [
    "### Challenge 1: Fork Languages\n",
    "\n",
    "You will find out how many programming languages are used among all the forks created from the main lab repo of your bootcamp. Assuming the main lab repo is  `ironhack-datalabs/bcn-feb-2019`, you will:\n",
    "\n",
    "1. Obtain the full list of forks created from the main lab repo via Github API.\n",
    "\n",
    "1. Loop the JSON response to find out the `language` attribute of each fork. Use an array to store the `language` attributes of each fork.\n",
    "    * *Hint: Each language should appear only once in your array.*\n",
    "\n",
    "1. Print the language array. It should be something like:\n",
    "\n",
    "\t```[\"Python\", \"Jupyter Notebook\", \"HTML\"]```"
   ]
  },
  {
   "cell_type": "code",
   "execution_count": 2,
   "id": "0d30fca3",
   "metadata": {},
   "outputs": [],
   "source": [
    "url = 'https://api.github.com/repos/ironhack-datalabs/bcn-feb-2019/forks'\n",
    "response = requests.get(url)\n",
    "if response.status_code == 200:\n",
    "    forks = response.json()"
   ]
  },
  {
   "cell_type": "code",
   "execution_count": 16,
   "metadata": {},
   "outputs": [
    {
     "data": {
      "text/plain": [
       "'Jupyter Notebook'"
      ]
     },
     "execution_count": 16,
     "metadata": {},
     "output_type": "execute_result"
    }
   ],
   "source": [
    "forks[6]['language']"
   ]
  },
  {
   "cell_type": "code",
   "execution_count": 5,
   "id": "321da9ce",
   "metadata": {},
   "outputs": [
    {
     "data": {
      "text/plain": [
       "[None, None, None, None, None, None, 'Jupyter Notebook']"
      ]
     },
     "execution_count": 5,
     "metadata": {},
     "output_type": "execute_result"
    }
   ],
   "source": [
    "languages = []\n",
    "for fork in forks :\n",
    "    language = fork['language']\n",
    "    languages.append(language)\n",
    "languages"
   ]
  },
  {
   "cell_type": "markdown",
   "id": "36ef72ab",
   "metadata": {},
   "source": [
    "### Challenge 2: Count Commits\n",
    "\n",
    "Assuming the main lab repo is `ta-data-pt-rmt/lab-mysql-first-queries`, you will count how many commits were made in the past 3 weeks:\n",
    "\n",
    "1. Obtain all the commits made in the past 3 weeks via API, which is a JSON array that contains multiple commit objects.\n",
    "\n",
    "1. Count how many commit objects are contained in the array."
   ]
  },
  {
   "cell_type": "code",
   "execution_count": 3,
   "id": "2b7bfe40",
   "metadata": {},
   "outputs": [],
   "source": [
    "url = 'https://api.github.com/repos/ta-data-pt-rmt/lab-mysql-first-queries/commits'\n",
    "response = requests.get(url)\n",
    "if response.status_code == 200:\n",
    "    forks = response.json()"
   ]
  },
  {
   "cell_type": "code",
   "execution_count": 4,
   "id": "7e6e1cd4",
   "metadata": {},
   "outputs": [
    {
     "data": {
      "text/plain": [
       "['2022-03-31T18:05:34Z', '2022-03-31T18:04:49Z', '2022-03-19T11:41:30Z']"
      ]
     },
     "execution_count": 4,
     "metadata": {},
     "output_type": "execute_result"
    }
   ],
   "source": [
    "dates = []\n",
    "for fork in forks :\n",
    "    date = fork['commit']['author']['date']\n",
    "    dates.append(date)\n",
    "dates"
   ]
  },
  {
   "cell_type": "code",
   "execution_count": 5,
   "metadata": {},
   "outputs": [
    {
     "data": {
      "text/plain": [
       "['2022-03-31', '2022-03-31', '2022-03-19']"
      ]
     },
     "execution_count": 5,
     "metadata": {},
     "output_type": "execute_result"
    }
   ],
   "source": [
    "date_splited = []\n",
    "for date in dates:\n",
    "    date_day = date.split('T')[0]\n",
    "    date_splited.append(date_day)\n",
    "date_splited"
   ]
  },
  {
   "cell_type": "code",
   "execution_count": 7,
   "metadata": {},
   "outputs": [
    {
     "name": "stdout",
     "output_type": "stream",
     "text": [
      "0\n"
     ]
    }
   ],
   "source": [
    "dates_to_keep = []\n",
    "date_three_weeks = datetime.now().date() - timedelta(weeks=3)\n",
    "\n",
    "for date in date_splited:\n",
    "    date = datetime.strptime(date, '%Y-%m-%d').date()\n",
    "\n",
    "    if date > date_three_weeks:\n",
    "        dates_to_keep.append(date)\n",
    "\n",
    "print(len(dates_to_keep))"
   ]
  }
 ],
 "metadata": {
  "kernelspec": {
   "display_name": "Python 3",
   "language": "python",
   "name": "python3"
  },
  "language_info": {
   "codemirror_mode": {
    "name": "ipython",
    "version": 3
   },
   "file_extension": ".py",
   "mimetype": "text/x-python",
   "name": "python",
   "nbconvert_exporter": "python",
   "pygments_lexer": "ipython3",
   "version": "3.11.5"
  }
 },
 "nbformat": 4,
 "nbformat_minor": 5
}
